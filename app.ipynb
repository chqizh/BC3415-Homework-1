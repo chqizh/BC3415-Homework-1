{
 "cells": [
  {
   "cell_type": "markdown",
   "metadata": {},
   "source": [
    "<h1> Assignment </h1>"
   ]
  },
  {
   "cell_type": "code",
   "execution_count": 7,
   "metadata": {},
   "outputs": [
    {
     "name": "stdout",
     "output_type": "stream",
     "text": [
      " * Serving Flask app '__main__'\n",
      " * Debug mode: off\n"
     ]
    },
    {
     "name": "stderr",
     "output_type": "stream",
     "text": [
      "\u001b[31m\u001b[1mWARNING: This is a development server. Do not use it in a production deployment. Use a production WSGI server instead.\u001b[0m\n",
      " * Running on http://127.0.0.1:5000\n",
      "\u001b[33mPress CTRL+C to quit\u001b[0m\n",
      "127.0.0.1 - - [27/Aug/2024 15:27:25] \"GET / HTTP/1.1\" 200 -\n",
      "127.0.0.1 - - [27/Aug/2024 15:27:25] \"GET /static/css/style.css HTTP/1.1\" 200 -\n",
      "127.0.0.1 - - [27/Aug/2024 15:27:25] \"\u001b[36mGET /static/images/istockphoto-1634086519-1024x1024.jpg HTTP/1.1\u001b[0m\" 304 -\n",
      "127.0.0.1 - - [27/Aug/2024 15:27:26] \"POST /financial_FAQ HTTP/1.1\" 200 -\n",
      "[2024-08-27 15:27:38,048] ERROR in app: Exception on /makersuite [POST]\n",
      "Traceback (most recent call last):\n",
      "  File \"/Library/Frameworks/Python.framework/Versions/3.12/lib/python3.12/site-packages/flask/app.py\", line 1473, in wsgi_app\n",
      "    response = self.full_dispatch_request()\n",
      "               ^^^^^^^^^^^^^^^^^^^^^^^^^^^^\n",
      "  File \"/Library/Frameworks/Python.framework/Versions/3.12/lib/python3.12/site-packages/flask/app.py\", line 882, in full_dispatch_request\n",
      "    rv = self.handle_user_exception(e)\n",
      "         ^^^^^^^^^^^^^^^^^^^^^^^^^^^^^\n",
      "  File \"/Library/Frameworks/Python.framework/Versions/3.12/lib/python3.12/site-packages/flask/app.py\", line 880, in full_dispatch_request\n",
      "    rv = self.dispatch_request()\n",
      "         ^^^^^^^^^^^^^^^^^^^^^^^\n",
      "  File \"/Library/Frameworks/Python.framework/Versions/3.12/lib/python3.12/site-packages/flask/app.py\", line 865, in dispatch_request\n",
      "    return self.ensure_sync(self.view_functions[rule.endpoint])(**view_args)  # type: ignore[no-any-return]\n",
      "           ^^^^^^^^^^^^^^^^^^^^^^^^^^^^^^^^^^^^^^^^^^^^^^^^^^^^^^^^^^^^^^^^^\n",
      "  File \"/var/folders/5d/jp7tn7f54kd_q04htj05bhlm0000gn/T/ipykernel_32032/4197621295.py\", line 21, in makersuite\n",
      "    r = palm.chat(messages=q, **model)\n",
      "        ^^^^^^^^^^^^^^^^^^^^^^^^^^^^^^\n",
      "  File \"/Library/Frameworks/Python.framework/Versions/3.12/lib/python3.12/site-packages/google/generativeai/discuss.py\", line 408, in chat\n",
      "    return _generate_response(client=client, request=request, request_options=request_options)\n",
      "           ^^^^^^^^^^^^^^^^^^^^^^^^^^^^^^^^^^^^^^^^^^^^^^^^^^^^^^^^^^^^^^^^^^^^^^^^^^^^^^^^^^^\n",
      "  File \"/Library/Frameworks/Python.framework/Versions/3.12/lib/python3.12/site-packages/google/generativeai/discuss.py\", line 553, in _generate_response\n",
      "    client = get_default_discuss_client()\n",
      "             ^^^^^^^^^^^^^^^^^^^^^^^^^^^^\n",
      "  File \"/Library/Frameworks/Python.framework/Versions/3.12/lib/python3.12/site-packages/google/generativeai/client.py\", line 324, in get_default_discuss_client\n",
      "    return _client_manager.get_default_client(\"discuss\")\n",
      "           ^^^^^^^^^^^^^^^^^^^^^^^^^^^^^^^^^^^^^^^^^^^^^\n",
      "  File \"/Library/Frameworks/Python.framework/Versions/3.12/lib/python3.12/site-packages/google/generativeai/client.py\", line 260, in get_default_client\n",
      "    client = self.make_client(name)\n",
      "             ^^^^^^^^^^^^^^^^^^^^^^\n",
      "  File \"/Library/Frameworks/Python.framework/Versions/3.12/lib/python3.12/site-packages/google/generativeai/client.py\", line 218, in make_client\n",
      "    raise e\n",
      "  File \"/Library/Frameworks/Python.framework/Versions/3.12/lib/python3.12/site-packages/google/generativeai/client.py\", line 210, in make_client\n",
      "    client = cls(**self.client_config)\n",
      "             ^^^^^^^^^^^^^^^^^^^^^^^^^\n",
      "  File \"/Library/Frameworks/Python.framework/Versions/3.12/lib/python3.12/site-packages/google/ai/generativelanguage_v1beta/services/discuss_service/client.py\", line 666, in __init__\n",
      "    self._transport = transport_init(\n",
      "                      ^^^^^^^^^^^^^^^\n",
      "  File \"/Library/Frameworks/Python.framework/Versions/3.12/lib/python3.12/site-packages/google/ai/generativelanguage_v1beta/services/discuss_service/transports/grpc.py\", line 155, in __init__\n",
      "    super().__init__(\n",
      "  File \"/Library/Frameworks/Python.framework/Versions/3.12/lib/python3.12/site-packages/google/ai/generativelanguage_v1beta/services/discuss_service/transports/base.py\", line 98, in __init__\n",
      "    credentials, _ = google.auth.default(\n",
      "                     ^^^^^^^^^^^^^^^^^^^^\n",
      "  File \"/Library/Frameworks/Python.framework/Versions/3.12/lib/python3.12/site-packages/google/auth/_default.py\", line 691, in default\n",
      "    raise exceptions.DefaultCredentialsError(_CLOUD_SDK_MISSING_CREDENTIALS)\n",
      "google.auth.exceptions.DefaultCredentialsError: \n",
      "  No API_KEY or ADC found. Please either:\n",
      "    - Set the `GOOGLE_API_KEY` environment variable.\n",
      "    - Manually pass the key with `genai.configure(api_key=my_api_key)`.\n",
      "    - Or set up Application Default Credentials, see https://ai.google.dev/gemini-api/docs/oauth for more information.\n",
      "127.0.0.1 - - [27/Aug/2024 15:27:38] \"\u001b[35m\u001b[1mPOST /makersuite HTTP/1.1\u001b[0m\" 500 -\n"
     ]
    }
   ],
   "source": [
    "from flask import Flask,render_template,request\n",
    "import google.generativeai as palm\n",
    "\n",
    "api = \"\"\n",
    "palm.configure(api_key=api)\n",
    "model = {\"model\": \"models/chat-bison-001\"}\n",
    "\n",
    "app = Flask(__name__)\n",
    "\n",
    "@app.route(\"/\",methods=[\"GET\",\"POST\"])\n",
    "def index():\n",
    "    return(render_template(\"index.html\"))\n",
    "\n",
    "@app.route(\"/financial_FAQ\",methods=[\"GET\",\"POST\"])\n",
    "def financial_FAQ():\n",
    "    return(render_template(\"financial_FAQ.html\"))\n",
    "\n",
    "@app.route(\"/makersuite\",methods=[\"GET\",\"POST\"])\n",
    "def makersuite():\n",
    "    q = request.form.get(\"q\")\n",
    "    r = palm.chat(messages=q, **model)\n",
    "    return(render_template(\"makersuite.html\",r=r.last))\n",
    "\n",
    "if __name__ == \"__main__\":\n",
    "    app.run()"
   ]
  }
 ],
 "metadata": {
  "kernelspec": {
   "display_name": "Python 3",
   "language": "python",
   "name": "python3"
  },
  "language_info": {
   "codemirror_mode": {
    "name": "ipython",
    "version": 3
   },
   "file_extension": ".py",
   "mimetype": "text/x-python",
   "name": "python",
   "nbconvert_exporter": "python",
   "pygments_lexer": "ipython3",
   "version": "3.12.4"
  }
 },
 "nbformat": 4,
 "nbformat_minor": 2
}

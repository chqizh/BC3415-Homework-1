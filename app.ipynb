{
 "cells": [
  {
   "cell_type": "markdown",
   "metadata": {},
   "source": [
    "<h1> Assignment </h1>"
   ]
  },
  {
   "cell_type": "code",
   "execution_count": 2,
   "metadata": {},
   "outputs": [
    {
     "name": "stdout",
     "output_type": "stream",
     "text": [
      " * Serving Flask app '__main__'\n",
      " * Debug mode: off\n"
     ]
    },
    {
     "name": "stderr",
     "output_type": "stream",
     "text": [
      "\u001b[31m\u001b[1mWARNING: This is a development server. Do not use it in a production deployment. Use a production WSGI server instead.\u001b[0m\n",
      " * Running on http://127.0.0.1:5000\n",
      "\u001b[33mPress CTRL+C to quit\u001b[0m\n"
     ]
    },
    {
     "name": "stderr",
     "output_type": "stream",
     "text": [
      "127.0.0.1 - - [27/Aug/2024 15:47:05] \"GET / HTTP/1.1\" 200 -\n",
      "127.0.0.1 - - [27/Aug/2024 15:47:05] \"GET /static/css/style.css HTTP/1.1\" 200 -\n",
      "127.0.0.1 - - [27/Aug/2024 15:47:05] \"GET /static/images/istockphoto-1634086519-1024x1024.jpg HTTP/1.1\" 200 -\n",
      "127.0.0.1 - - [27/Aug/2024 15:47:07] \"POST /financial_FAQ HTTP/1.1\" 200 -\n",
      "127.0.0.1 - - [27/Aug/2024 15:47:13] \"GET / HTTP/1.1\" 200 -\n",
      "127.0.0.1 - - [27/Aug/2024 15:47:13] \"\u001b[36mGET /static/css/style.css HTTP/1.1\u001b[0m\" 304 -\n",
      "127.0.0.1 - - [27/Aug/2024 15:47:13] \"\u001b[36mGET /static/images/istockphoto-1634086519-1024x1024.jpg HTTP/1.1\u001b[0m\" 304 -\n",
      "127.0.0.1 - - [27/Aug/2024 15:47:14] \"\u001b[33mPOST /joke HTTP/1.1\u001b[0m\" 404 -\n"
     ]
    }
   ],
   "source": [
    "from flask import Flask,render_template,request\n",
    "import google.generativeai as palm\n",
    "\n",
    "api = API_KEY\n",
    "palm.configure(api_key=api)\n",
    "model = {\"model\": \"models/chat-bison-001\"}\n",
    "\n",
    "app = Flask(__name__)\n",
    "\n",
    "@app.route(\"/\",methods=[\"GET\",\"POST\"])\n",
    "def index():\n",
    "    return(render_template(\"index.html\"))\n",
    "\n",
    "@app.route(\"/financial_FAQ\",methods=[\"GET\",\"POST\"])\n",
    "def financial_FAQ():\n",
    "    return(render_template(\"financial_FAQ.html\"))\n",
    "\n",
    "@app.route(\"/makersuite\",methods=[\"GET\",\"POST\"])\n",
    "def makersuite():\n",
    "    q = request.form.get(\"q\")\n",
    "    r = palm.chat(messages=q, **model)\n",
    "    return(render_template(\"makersuite.html\",r=r.last))\n",
    "\n",
    "if __name__ == \"__main__\":\n",
    "    app.run()"
   ]
  }
 ],
 "metadata": {
  "kernelspec": {
   "display_name": "Python 3",
   "language": "python",
   "name": "python3"
  },
  "language_info": {
   "codemirror_mode": {
    "name": "ipython",
    "version": 3
   },
   "file_extension": ".py",
   "mimetype": "text/x-python",
   "name": "python",
   "nbconvert_exporter": "python",
   "pygments_lexer": "ipython3",
   "version": "3.12.4"
  }
 },
 "nbformat": 4,
 "nbformat_minor": 2
}
